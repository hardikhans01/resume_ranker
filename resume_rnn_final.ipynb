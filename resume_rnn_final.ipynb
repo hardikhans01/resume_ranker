{
 "cells": [
  {
   "cell_type": "code",
   "execution_count": 8,
   "metadata": {},
   "outputs": [],
   "source": [
    "import numpy as np\n",
    "from sentence_transformers import SentenceTransformer\n",
    "import tensorflow as tf\n",
    "from tensorflow.keras import layers, models\n",
    "from sklearn.model_selection import train_test_split\n",
    "from sklearn.metrics.pairwise import cosine_similarity\n",
    "import fitz"
   ]
  },
  {
   "cell_type": "code",
   "execution_count": 9,
   "metadata": {},
   "outputs": [
    {
     "name": "stderr",
     "output_type": "stream",
     "text": [
      "c:\\Users\\saksh\\OneDrive\\Desktop\\resume-4\\venv\\Lib\\site-packages\\huggingface_hub\\file_download.py:1132: FutureWarning: `resume_download` is deprecated and will be removed in version 1.0.0. Downloads always resume when possible. If you want to force a new download, use `force_download=True`.\n",
      "  warnings.warn(\n"
     ]
    }
   ],
   "source": [
    "sentence_transformer_model = SentenceTransformer('sentence-transformers/all-MiniLM-L6-v2')"
   ]
  },
  {
   "cell_type": "code",
   "execution_count": 10,
   "metadata": {},
   "outputs": [],
   "source": [
    "def extract_text_from_pdf(pdf_path):\n",
    "    text = \"\"\n",
    "    with fitz.open(pdf_path) as doc:\n",
    "        for page in doc:\n",
    "            text += page.get_text()\n",
    "    return text\n",
    "\n",
    "jd_paths = [\"jd_web_developer.txt\", \"jd_web_developer.txt\", \"jd_web_developer.txt\", \"jd_web_developer.txt\", \"Job Description.txt\"]\n",
    "# change resume_paths according the resume files uploaded\n",
    "resume_paths = [\"Hardik_Hans_resume_3.pdf\", \"Hardik_Hans_resume_4.pdf\", \"Hardik_Hans_resume_5.pdf\", \"dipankar_resume.pdf\",\"aryancv1.pdf\"]\n",
    "\n",
    "jds_embeddings = [sentence_transformer_model.encode(extract_text_from_pdf(path)) for path in jd_paths]\n",
    "resumes_embeddings = [sentence_transformer_model.encode(extract_text_from_pdf(path)) for path in resume_paths]"
   ]
  },
  {
   "cell_type": "code",
   "execution_count": 11,
   "metadata": {},
   "outputs": [
    {
     "name": "stdout",
     "output_type": "stream",
     "text": [
      "Shape of jds_embeddings: (5, 384)\n",
      "Shape of resumes_embeddings: (5, 384)\n"
     ]
    }
   ],
   "source": [
    "jds_embeddings_np = np.array(jds_embeddings)\n",
    "resumes_embeddings_np = np.array(resumes_embeddings)\n",
    "\n",
    "print(\"Shape of jds_embeddings:\", jds_embeddings_np.shape)\n",
    "print(\"Shape of resumes_embeddings:\", resumes_embeddings_np.shape)\n",
    "\n",
    "jds_train, jds_val, resumes_train, resumes_val = train_test_split(jds_embeddings_np, resumes_embeddings_np, test_size=0.4, random_state=42)\n",
    "\n",
    "jd_embeddings_train = jds_train\n",
    "resume_embeddings_train = resumes_train"
   ]
  },
  {
   "cell_type": "code",
   "execution_count": 12,
   "metadata": {},
   "outputs": [
    {
     "name": "stdout",
     "output_type": "stream",
     "text": [
      "Shape of jd_embeddings_train: (3, 384)\n",
      "Shape of resume_embeddings_train: (3, 384)\n",
      "3 384\n"
     ]
    }
   ],
   "source": [
    "print(\"Shape of jd_embeddings_train:\", jd_embeddings_train.shape)\n",
    "print(\"Shape of resume_embeddings_train:\", resume_embeddings_train.shape)\n",
    "\n",
    "a, b = jd_embeddings_train.shape\n",
    "print(a, b)\n",
    "\n",
    "jd_embeddings_train = np.expand_dims(jd_embeddings_train, axis=1)"
   ]
  },
  {
   "cell_type": "code",
   "execution_count": 13,
   "metadata": {},
   "outputs": [
    {
     "name": "stdout",
     "output_type": "stream",
     "text": [
      "Epoch 1/10\n"
     ]
    },
    {
     "name": "stderr",
     "output_type": "stream",
     "text": [
      "c:\\Users\\saksh\\OneDrive\\Desktop\\resume-4\\venv\\Lib\\site-packages\\keras\\src\\layers\\rnn\\rnn.py:204: UserWarning: Do not pass an `input_shape`/`input_dim` argument to a layer. When using Sequential models, prefer using an `Input(shape)` object as the first layer in the model instead.\n",
      "  super().__init__(**kwargs)\n"
     ]
    },
    {
     "name": "stdout",
     "output_type": "stream",
     "text": [
      "\u001b[1m1/1\u001b[0m \u001b[32m━━━━━━━━━━━━━━━━━━━━\u001b[0m\u001b[37m\u001b[0m \u001b[1m2s\u001b[0m 2s/step - loss: 0.2529\n",
      "Epoch 2/10\n",
      "\u001b[1m1/1\u001b[0m \u001b[32m━━━━━━━━━━━━━━━━━━━━\u001b[0m\u001b[37m\u001b[0m \u001b[1m0s\u001b[0m 38ms/step - loss: 0.2524\n",
      "Epoch 3/10\n",
      "\u001b[1m1/1\u001b[0m \u001b[32m━━━━━━━━━━━━━━━━━━━━\u001b[0m\u001b[37m\u001b[0m \u001b[1m0s\u001b[0m 36ms/step - loss: 0.2520\n",
      "Epoch 4/10\n",
      "\u001b[1m1/1\u001b[0m \u001b[32m━━━━━━━━━━━━━━━━━━━━\u001b[0m\u001b[37m\u001b[0m \u001b[1m0s\u001b[0m 30ms/step - loss: 0.2515\n",
      "Epoch 5/10\n",
      "\u001b[1m1/1\u001b[0m \u001b[32m━━━━━━━━━━━━━━━━━━━━\u001b[0m\u001b[37m\u001b[0m \u001b[1m0s\u001b[0m 32ms/step - loss: 0.2509\n",
      "Epoch 6/10\n",
      "\u001b[1m1/1\u001b[0m \u001b[32m━━━━━━━━━━━━━━━━━━━━\u001b[0m\u001b[37m\u001b[0m \u001b[1m0s\u001b[0m 32ms/step - loss: 0.2503\n",
      "Epoch 7/10\n",
      "\u001b[1m1/1\u001b[0m \u001b[32m━━━━━━━━━━━━━━━━━━━━\u001b[0m\u001b[37m\u001b[0m \u001b[1m0s\u001b[0m 32ms/step - loss: 0.2495\n",
      "Epoch 8/10\n",
      "\u001b[1m1/1\u001b[0m \u001b[32m━━━━━━━━━━━━━━━━━━━━\u001b[0m\u001b[37m\u001b[0m \u001b[1m0s\u001b[0m 32ms/step - loss: 0.2486\n",
      "Epoch 9/10\n",
      "\u001b[1m1/1\u001b[0m \u001b[32m━━━━━━━━━━━━━━━━━━━━\u001b[0m\u001b[37m\u001b[0m \u001b[1m0s\u001b[0m 31ms/step - loss: 0.2475\n",
      "Epoch 10/10\n",
      "\u001b[1m1/1\u001b[0m \u001b[32m━━━━━━━━━━━━━━━━━━━━\u001b[0m\u001b[37m\u001b[0m \u001b[1m0s\u001b[0m 33ms/step - loss: 0.2462\n"
     ]
    },
    {
     "data": {
      "text/plain": [
       "<keras.src.callbacks.history.History at 0x1e261898800>"
      ]
     },
     "execution_count": 13,
     "metadata": {},
     "output_type": "execute_result"
    }
   ],
   "source": [
    "model = models.Sequential([\n",
    "    layers.LSTM(128, input_shape=(1, b)),\n",
    "    layers.Dense(64, activation='relu'),\n",
    "    layers.Dense(resume_embeddings_train.shape[1], activation='sigmoid')  \n",
    "])\n",
    "\n",
    "model.compile(optimizer='adam', loss='mse') \n",
    "\n",
    "model.fit(x=jd_embeddings_train, y=resume_embeddings_train, epochs=10, batch_size=32)"
   ]
  },
  {
   "cell_type": "code",
   "execution_count": 14,
   "metadata": {},
   "outputs": [
    {
     "name": "stdout",
     "output_type": "stream",
     "text": [
      "Ranked Resumes:\n",
      "[[0.4694916  0.07508232]\n",
      " [0.15682328 0.27176112]]\n"
     ]
    }
   ],
   "source": [
    "def rank_resumes(job_description, resumes):\n",
    "    jd_embedding = job_description\n",
    "    resume_embeddings = resumes\n",
    "    similarities = cosine_similarity(jd_embedding, resume_embeddings)\n",
    "    ranked_resumes_indexes = np.argsort(similarities)[::-1]\n",
    "    return ranked_resumes_indexes, similarities\n",
    "\n",
    "ranked_resumes_indexes, similarities = rank_resumes(jds_val, resumes_val)\n",
    "\n",
    "print(\"Ranked Resumes:\")\n",
    "print(similarities)"
   ]
  }
 ],
 "metadata": {
  "kernelspec": {
   "display_name": "venv",
   "language": "python",
   "name": "python3"
  },
  "language_info": {
   "codemirror_mode": {
    "name": "ipython",
    "version": 3
   },
   "file_extension": ".py",
   "mimetype": "text/x-python",
   "name": "python",
   "nbconvert_exporter": "python",
   "pygments_lexer": "ipython3",
   "version": "3.12.1"
  }
 },
 "nbformat": 4,
 "nbformat_minor": 2
}
